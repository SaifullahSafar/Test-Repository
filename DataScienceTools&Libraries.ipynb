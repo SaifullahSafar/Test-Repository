{
 "cells": [
  {
   "cell_type": "markdown",
   "id": "610e3b2b-b49d-46da-b360-e238bd3f2a6b",
   "metadata": {},
   "source": [
    "# Final Project: Data Science Tools and Libraries"
   ]
  },
  {
   "cell_type": "markdown",
   "id": "a0f2743b-d903-40b7-a772-d0d051901b10",
   "metadata": {},
   "source": [
    "## Introduction\n",
    "This notebook contains an overview of data science languages, libraries, and tools. Additionally, it includes some examples of arithmetic operations.\n"
   ]
  },
  {
   "cell_type": "markdown",
   "id": "8e58c575-6a84-49a7-ba12-78dbf8d7a90f",
   "metadata": {},
   "source": [
    "## Data Science Languages\n",
    "- Python\n",
    "- R\n",
    "- SQL\n",
    "- Julia\n",
    "- Scala\n"
   ]
  },
  {
   "cell_type": "markdown",
   "id": "e9bccb80-54b6-4801-9339-257443145356",
   "metadata": {},
   "source": [
    "## Data Science Libraries\n",
    "- NumPy\n",
    "- Pandas\n",
    "- Matplotlib\n",
    "- Scikit-learn\n",
    "- TensorFlow\n",
    "- Keras\n"
   ]
  },
  {
   "cell_type": "markdown",
   "id": "59c4c3d5-9c73-4e38-9807-29fb4f4c6547",
   "metadata": {},
   "source": [
    "## Data Science Tools\n",
    "| Tool          | Description                         |\n",
    "|--------------|----------------------------------|\n",
    "| Jupyter Notebook | Interactive computing environment |\n",
    "| RStudio      | IDE for R programming            |\n",
    "| Apache Spark | Big Data processing framework    |\n",
    "| TensorFlow   | Machine learning framework      |\n",
    "| RapidMiner   | Data science platform           |\n"
   ]
  },
  {
   "cell_type": "markdown",
   "id": "88d81c8e-a772-4c77-b552-34d45aa66dbd",
   "metadata": {},
   "source": [
    "## Arithmetic Expressions\n",
    "Below are some examples of arithmetic expressions, including multiplication and addition.\n"
   ]
  },
  {
   "cell_type": "code",
   "execution_count": 1,
   "id": "27b148fd-94a1-4bb2-bdff-9298560d600e",
   "metadata": {},
   "outputs": [
    {
     "data": {
      "text/plain": [
       "(15, 8)"
      ]
     },
     "execution_count": 1,
     "metadata": {},
     "output_type": "execute_result"
    }
   ],
   "source": [
    "# Multiplication and addition\n",
    "a = 5\n",
    "b = 3\n",
    "result_multiply = a * b\n",
    "result_add = a + b\n",
    "result_multiply, result_add\n"
   ]
  },
  {
   "cell_type": "code",
   "execution_count": 2,
   "id": "b2b4f543-80eb-4a39-92f2-7158672d9c6a",
   "metadata": {},
   "outputs": [
    {
     "data": {
      "text/plain": [
       "2.0"
      ]
     },
     "execution_count": 2,
     "metadata": {},
     "output_type": "execute_result"
    }
   ],
   "source": [
    "# Convert minutes to hours\n",
    "minutes = 120\n",
    "hours = minutes / 60\n",
    "hours\n"
   ]
  },
  {
   "cell_type": "markdown",
   "id": "fc0cece7-795d-4696-99db-d2af34633c62",
   "metadata": {},
   "source": [
    "## Objectives\n",
    "- Learn about data science languages\n",
    "- Explore data science libraries\n",
    "- Understand commonly used data science tools\n",
    "- Perform basic arithmetic operations\n"
   ]
  },
  {
   "cell_type": "markdown",
   "id": "1e1f6bb0-863f-4270-ae97-01dfefb59d04",
   "metadata": {},
   "source": [
    "## Author\n",
    "**Saifullah Safar**\n"
   ]
  },
  {
   "cell_type": "code",
   "execution_count": null,
   "id": "a4f7dfb2-3246-42c8-b197-74f402e85dee",
   "metadata": {},
   "outputs": [],
   "source": []
  }
 ],
 "metadata": {
  "kernelspec": {
   "display_name": "Python 3 (ipykernel)",
   "language": "python",
   "name": "python3"
  },
  "language_info": {
   "codemirror_mode": {
    "name": "ipython",
    "version": 3
   },
   "file_extension": ".py",
   "mimetype": "text/x-python",
   "name": "python",
   "nbconvert_exporter": "python",
   "pygments_lexer": "ipython3",
   "version": "3.12.7"
  }
 },
 "nbformat": 4,
 "nbformat_minor": 5
}
